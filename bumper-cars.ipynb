{
 "cells": [
  {
   "cell_type": "code",
   "execution_count": null,
   "metadata": {},
   "outputs": [],
   "source": [
    "import wallaroo\n",
    "import pandas as pd\n",
    "import uuid\n",
    "import time\n",
    "import os,json\n",
    "\n",
    "os.environ['DEPLOYMENT_CONFIG'] = json.dumps({\"cpus\": 0.1, \"replica_count\": 1, \"memory\": \"100Mi\"})"
   ]
  },
  {
   "cell_type": "code",
   "execution_count": null,
   "metadata": {},
   "outputs": [],
   "source": [
    "wl = wallaroo.Client(auth_type=auth_type)"
   ]
  },
  {
   "cell_type": "code",
   "execution_count": null,
   "metadata": {},
   "outputs": [],
   "source": [
    "model_class = \"ccfraud\"\n",
    "model = wl.upload_model(model_class, \"keras_ccfraud.onnx\")\n",
    "print(model)\n",
    "assert(model.name() == model_class)\n",
    "assert(model.id() > 0)\n",
    "assert(model.file_name() == 'keras_ccfraud.onnx')\n",
    "model = model.configure()\n",
    "\n",
    "with open('dev_smoke_test.json', \"rb\") as f:\n",
    "    data = json.load(f)"
   ]
  },
  {
   "cell_type": "code",
   "execution_count": null,
   "metadata": {},
   "outputs": [],
   "source": [
    "deploy_id = \"ccfraud-\" + str(uuid.uuid4())\n",
    "deployment = model.deploy(deploy_id)"
   ]
  }
 ],
 "metadata": {
  "language_info": {
   "name": "python"
  },
  "orig_nbformat": 4
 },
 "nbformat": 4,
 "nbformat_minor": 2
}
